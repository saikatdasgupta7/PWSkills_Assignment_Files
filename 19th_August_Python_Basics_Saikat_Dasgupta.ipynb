{
 "cells": [
  {
   "cell_type": "code",
   "execution_count": 1,
   "id": "566c3392-784b-482e-9653-ee423ccaf330",
   "metadata": {},
   "outputs": [
    {
     "name": "stdin",
     "output_type": "stream",
     "text": [
      "Enter the First Number :  100\n",
      "Enter the Second Number : 200\n"
     ]
    },
    {
     "name": "stdout",
     "output_type": "stream",
     "text": [
      "Value of X:  200\n",
      "Value of Y:  100\n"
     ]
    }
   ],
   "source": [
    "#Declare two variables, `x` and `y`, and assign them integer values. Swap the\n",
    "#values of these variables without using any temporary variable.\n",
    "\n",
    "x=int(input(\"Enter the First Number : \"))\n",
    "y=int(input(\"Enter the Second Number :\"))\n",
    "\n",
    "x=x+y\n",
    "y=x-y\n",
    "x=x-y\n",
    "\n",
    "print(\"Value of X: \",x)\n",
    "print(\"Value of Y: \",y)"
   ]
  },
  {
   "cell_type": "code",
   "execution_count": 2,
   "id": "ee23a172-b1e1-4aeb-8a3e-a4d9fc08ff82",
   "metadata": {},
   "outputs": [
    {
     "name": "stdin",
     "output_type": "stream",
     "text": [
      "Enter the Length of the rectangle:  30\n",
      "Enter the width of the rectangle:  40\n"
     ]
    },
    {
     "name": "stdout",
     "output_type": "stream",
     "text": [
      "The area of the rectangle is:  1200\n"
     ]
    }
   ],
   "source": [
    "# Create a program that calculates the area of a rectangle. Take the length and\n",
    "# width as inputs from the user and store them in variables. Calculate and display the area.\n",
    "\n",
    "length=int(input(\"Enter the Length of the rectangle: \"))\n",
    "width =int(input(\"Enter the width of the rectangle: \"))\n",
    "\n",
    "area=length*width\n",
    "\n",
    "print(\"The area of the rectangle is: \",area)"
   ]
  },
  {
   "cell_type": "code",
   "execution_count": 3,
   "id": "59252128-e24c-4345-aeb6-f23fe139984f",
   "metadata": {},
   "outputs": [
    {
     "name": "stdin",
     "output_type": "stream",
     "text": [
      "Enter the Celsius to convert into Fahrenheit:  65\n"
     ]
    },
    {
     "name": "stdout",
     "output_type": "stream",
     "text": [
      "Fahrenheit is:  149.0\n"
     ]
    }
   ],
   "source": [
    "# Write a Python program that converts temperatures from Celsius to\n",
    "# Fahrenheit. Take the temperature in Celsius as input, store it in a variable,\n",
    "# convert it to Fahrenheit, and display the result.\n",
    "\n",
    "Celsius=int(input(\"Enter the Celsius to convert into Fahrenheit: \"))\n",
    "\n",
    "Fahrenheit=(Celsius*1.8) + 32 \n",
    "\n",
    "print(\"Fahrenheit is: \",Fahrenheit)\n"
   ]
  },
  {
   "cell_type": "code",
   "execution_count": 4,
   "id": "1b1d8dbf-17fb-48f0-99dd-2ea994ce47da",
   "metadata": {},
   "outputs": [
    {
     "name": "stdin",
     "output_type": "stream",
     "text": [
      "Enter the Sample srting to know the lenghth :  Saikat Dasgupta\n"
     ]
    },
    {
     "name": "stdout",
     "output_type": "stream",
     "text": [
      "Length of the input string is:  15\n"
     ]
    }
   ],
   "source": [
    "# Write a Python program that takes a string as input and prints the length of the string.\n",
    "\n",
    "user_input_str=input(\"Enter the Sample srting to know the lenghth : \")\n",
    "\n",
    "user_input_str_length=len(user_input_str)\n",
    "print(\"Length of the input string is: \",user_input_str_length)"
   ]
  },
  {
   "cell_type": "code",
   "execution_count": 5,
   "id": "0fd3e841-290c-4873-8426-055ea58d27ba",
   "metadata": {},
   "outputs": [
    {
     "name": "stdin",
     "output_type": "stream",
     "text": [
      "Enter the String to count of vowels :  This is my first assignments\n"
     ]
    },
    {
     "name": "stdout",
     "output_type": "stream",
     "text": [
      "this is my first assignments\n",
      "counts the number of the input string is:  6\n"
     ]
    }
   ],
   "source": [
    "user_input_str=input(\"Enter the String to count of vowels : \")\n",
    "user_input_str_lowercase=user_input_str.lower()\n",
    "print(user_input_str_lowercase)\n",
    "\n",
    "a=user_input_str_lowercase.count(\"a\")\n",
    "e=user_input_str_lowercase.count(\"e\")\n",
    "i=user_input_str_lowercase.count(\"i\")\n",
    "o=user_input_str_lowercase.count(\"o\")\n",
    "u=user_input_str_lowercase.count(\"u\")\n",
    "\n",
    "print(\"counts the number of the input string is: \",a+e+i+o+u)"
   ]
  },
  {
   "cell_type": "code",
   "execution_count": 6,
   "id": "de045be9-09d4-4d95-b2cb-5fff4c9ee84d",
   "metadata": {},
   "outputs": [
    {
     "name": "stdin",
     "output_type": "stream",
     "text": [
      "Enter the String to print reverse :  This is my first assignments\n"
     ]
    },
    {
     "name": "stdout",
     "output_type": "stream",
     "text": [
      "Reverse order string is : stnemngissa tsrif ym si sihT\n"
     ]
    }
   ],
   "source": [
    "# Given a string, reverse the order of characters using string slicing and print\n",
    "# the reversed string.\n",
    "\n",
    "user_input_str=input(\"Enter the String to print reverse : \")\n",
    "reverse_user_input_str=user_input_str[::-1]\n",
    "print(\"Reverse order string is :\",reverse_user_input_str)"
   ]
  },
  {
   "cell_type": "code",
   "execution_count": 9,
   "id": "957c566b-45e4-4a51-b820-c1894c81e265",
   "metadata": {},
   "outputs": [
    {
     "name": "stdin",
     "output_type": "stream",
     "text": [
      "Enter the String to check the string is palindrome or not :  noon\n"
     ]
    },
    {
     "name": "stdout",
     "output_type": "stream",
     "text": [
      "The entered string is palindrome\n"
     ]
    }
   ],
   "source": [
    "# Write a program that takes a string as input and checks if it is a palindrome\n",
    "\n",
    "user_input_str=input(\"Enter the String to check the string is palindrome or not : \")\n",
    "\n",
    "user_input_str_1=user_input_str[0::]\n",
    "user_input_str_2=user_input_str[::-1]\n",
    "\n",
    "\n",
    "if user_input_str_1==user_input_str_2:\n",
    "    print(\"The entered string is palindrome\")\n",
    "else:\n",
    "    print(\"The entered string is not palindrome\")"
   ]
  },
  {
   "cell_type": "code",
   "execution_count": 10,
   "id": "57bbe0d9-1889-45e8-a089-1a3c53f3fd5e",
   "metadata": {},
   "outputs": [
    {
     "name": "stdin",
     "output_type": "stream",
     "text": [
      "Enter the String to remove space :  This is my first assignments\n"
     ]
    },
    {
     "name": "stdout",
     "output_type": "stream",
     "text": [
      "Result without space :  Thisismyfirstassignments\n"
     ]
    }
   ],
   "source": [
    "# Create a program that takes a string as input and removes all the spaces from it. \n",
    "# Print the modified string without spaces.\n",
    "\n",
    "user_input_str=input(\"Enter the String to remove space : \")\n",
    "user_input_str_without_space=user_input_str.replace(\" \",\"\")\n",
    "\n",
    "print(\"Result without space : \",user_input_str_without_space)"
   ]
  },
  {
   "cell_type": "code",
   "execution_count": null,
   "id": "36892e26-fe8f-41dc-8105-8ba2a44edf13",
   "metadata": {},
   "outputs": [],
   "source": []
  }
 ],
 "metadata": {
  "kernelspec": {
   "display_name": "Python 3 (ipykernel)",
   "language": "python",
   "name": "python3"
  },
  "language_info": {
   "codemirror_mode": {
    "name": "ipython",
    "version": 3
   },
   "file_extension": ".py",
   "mimetype": "text/x-python",
   "name": "python",
   "nbconvert_exporter": "python",
   "pygments_lexer": "ipython3",
   "version": "3.10.8"
  }
 },
 "nbformat": 4,
 "nbformat_minor": 5
}
